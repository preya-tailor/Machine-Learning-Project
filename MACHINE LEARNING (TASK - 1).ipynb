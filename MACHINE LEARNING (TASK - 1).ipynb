{
 "cells": [
  {
   "cell_type": "markdown",
   "id": "afa824b7",
   "metadata": {},
   "source": [
    "# MOVIE GENRE CLASSIFICATION"
   ]
  },
  {
   "cell_type": "code",
   "execution_count": null,
   "id": "03310690",
   "metadata": {},
   "outputs": [],
   "source": []
  },
  {
   "cell_type": "code",
   "execution_count": 1,
   "id": "163bd064",
   "metadata": {
    "scrolled": true
   },
   "outputs": [
    {
     "name": "stdout",
     "output_type": "stream",
     "text": [
      "                                              Title          Genre  \\\n",
      "1                     Oscar et la dame rose (2009)          drama    \n",
      "2                                     Cupid (1997)       thriller    \n",
      "3                 Young, Wild and Wonderful (1980)          adult    \n",
      "4                            The Secret Sin (1915)          drama    \n",
      "5                           The Unrecovered (2007)          drama    \n",
      "...                                             ...            ...   \n",
      "54210                              \"Bonino\" (1953)         comedy    \n",
      "54211                  Dead Girls Don't Cry (????)         horror    \n",
      "54212    Ronald Goedemondt: Ze bestaan echt (2008)    documentary    \n",
      "54213                     Make Your Own Bed (1944)         comedy    \n",
      "54214   Nature's Fury: Storm of the Century (2006)        history    \n",
      "\n",
      "                                             Description  \n",
      "1       Listening in to a conversation between his do...  \n",
      "2       A brother and sister with a past incestuous r...  \n",
      "3       As the bus empties the students for their fie...  \n",
      "4       To help their unemployed father make ends mee...  \n",
      "5       The film's title refers not only to the un-re...  \n",
      "...                                                  ...  \n",
      "54210   This short-lived NBC live sitcom centered on ...  \n",
      "54211   The NEXT Generation of EXPLOITATION. The sist...  \n",
      "54212   Ze bestaan echt, is a stand-up comedy about g...  \n",
      "54213   Walter and Vivian live in the country and hav...  \n",
      "54214   On Labor Day Weekend, 1935, the most intense ...  \n",
      "\n",
      "[54214 rows x 3 columns]\n"
     ]
    }
   ],
   "source": [
    "import pandas as pd\n",
    "\n",
    "# train data\n",
    "df1 = \"Downloads/train_data.txt\"\n",
    "df= pd.read_csv(df1, sep=\":::\", names=['Title','Genre','Description'], engine='python')\n",
    "train = pd.DataFrame(df)\n",
    "print(train)"
   ]
  },
  {
   "cell_type": "code",
   "execution_count": null,
   "id": "414c1583",
   "metadata": {},
   "outputs": [],
   "source": []
  },
  {
   "cell_type": "code",
   "execution_count": 2,
   "id": "e96c7bc0",
   "metadata": {},
   "outputs": [
    {
     "name": "stdout",
     "output_type": "stream",
     "text": [
      "       Title                             Genre  \\\n",
      "0          1             Edgar's Lunch (1998)    \n",
      "1          2         La guerra de papá (1977)    \n",
      "2          3      Off the Beaten Track (2010)    \n",
      "3          4           Meu Amigo Hindu (2015)    \n",
      "4          5                Er nu zhai (1955)    \n",
      "...      ...                               ...   \n",
      "54195  54196   \"Tales of Light & Dark\" (2013)    \n",
      "54196  54197      Der letzte Mohikaner (1965)    \n",
      "54197  54198              Oliver Twink (2007)    \n",
      "54198  54199                Slipstream (1973)    \n",
      "54199  54200        Curitiba Zero Grau (2010)    \n",
      "\n",
      "                                             Description  \n",
      "0       L.R. Brane loves his life - his car, his apar...  \n",
      "1       Spain, March 1964: Quico is a very naughty ch...  \n",
      "2       One year in the life of Albin and his family ...  \n",
      "3       His father has died, he hasn't spoken with hi...  \n",
      "4       Before he was known internationally as a mart...  \n",
      "...                                                  ...  \n",
      "54195   Covering multiple genres, Tales of Light & Da...  \n",
      "54196   As Alice and Cora Munro attempt to find their...  \n",
      "54197   A movie 169 years in the making. Oliver Twist...  \n",
      "54198   Popular, but mysterious rock D.J Mike Mallard...  \n",
      "54199   Curitiba is a city in movement, with rhythms ...  \n",
      "\n",
      "[54200 rows x 3 columns]\n"
     ]
    }
   ],
   "source": [
    "# test data\n",
    "\n",
    "df1 = \"Downloads/test_data.txt\"\n",
    "df= pd.read_csv(df1, sep=\":::\", names=['Title','Genre','Description'], engine='python')\n",
    "test = pd.DataFrame(df)\n",
    "print(test)"
   ]
  },
  {
   "cell_type": "code",
   "execution_count": null,
   "id": "c0863e08",
   "metadata": {},
   "outputs": [],
   "source": []
  },
  {
   "cell_type": "code",
   "execution_count": 3,
   "id": "3ec0026d",
   "metadata": {},
   "outputs": [
    {
     "name": "stdout",
     "output_type": "stream",
     "text": [
      "TRAIN: \n",
      "                                  Title    Genre  \\\n",
      "count                            54214    54214   \n",
      "unique                           54214       27   \n",
      "top      Oscar et la dame rose (2009)    drama    \n",
      "freq                                 1    13613   \n",
      "\n",
      "                                              Description  \n",
      "count                                               54214  \n",
      "unique                                              54086  \n",
      "top      Grammy - music award of the American academy ...  \n",
      "freq                                                   12  \n",
      "\n",
      "\n",
      "TEST: \n",
      "               Title\n",
      "count  54200.000000\n",
      "mean   27100.500000\n",
      "std    15646.336632\n",
      "min        1.000000\n",
      "25%    13550.750000\n",
      "50%    27100.500000\n",
      "75%    40650.250000\n",
      "max    54200.000000\n"
     ]
    }
   ],
   "source": [
    "print(\"TRAIN: \\n\", train.describe())\n",
    "print(\"\\n\\nTEST: \\n\", test.describe())"
   ]
  },
  {
   "cell_type": "code",
   "execution_count": null,
   "id": "355edeca",
   "metadata": {},
   "outputs": [],
   "source": []
  },
  {
   "cell_type": "code",
   "execution_count": 4,
   "id": "aab7c309",
   "metadata": {},
   "outputs": [
    {
     "name": "stdout",
     "output_type": "stream",
     "text": [
      "TRAIN: \n",
      " Title          0\n",
      "Genre          0\n",
      "Description    0\n",
      "dtype: int64\n",
      "\n",
      "\n",
      "TEST: \n",
      " Title          0\n",
      "Genre          0\n",
      "Description    0\n",
      "dtype: int64\n"
     ]
    }
   ],
   "source": [
    "#checking null values\n",
    "\n",
    "print(\"TRAIN: \\n\", train.isnull().sum())\n",
    "print(\"\\n\\nTEST: \\n\", train.isnull().sum())"
   ]
  },
  {
   "cell_type": "code",
   "execution_count": null,
   "id": "f80ecc24",
   "metadata": {},
   "outputs": [],
   "source": []
  },
  {
   "cell_type": "code",
   "execution_count": 5,
   "id": "40070d37",
   "metadata": {},
   "outputs": [
    {
     "data": {
      "image/png": "[encoded data removed]",
      "text/plain": [
       "<Figure size 720x720 with 1 Axes>"
      ]
     },
     "metadata": {
      "needs_background": "light"
     },
     "output_type": "display_data"
    }
   ],
   "source": [
    "import seaborn as sns\n",
    "import matplotlib.pyplot as plt\n",
    "\n",
    "plt.figure(figsize=(10, 10))\n",
    "sns.barplot(x=train['Genre'].value_counts().index, y=train['Genre'].value_counts())\n",
    "plt.title('Movies - Genre')\n",
    "plt.xlabel('Genre')\n",
    "plt.ylabel('Count')\n",
    "plt.xticks(rotation=90)\n",
    "plt.show()"
   ]
  },
  {
   "cell_type": "code",
   "execution_count": 1,
   "id": "933fc7db",
   "metadata": {},
   "outputs": [],
   "source": [
    "import pandas as pd\n",
    "import matplotlib.pyplot as plt\n",
    "import seaborn as sns\n",
    "from sklearn.feature_extraction.text import TfidfVectorizer\n",
    "from sklearn.model_selection import train_test_split\n",
    "from sklearn.metrics import accuracy_score, classification_report"
   ]
  },
  {
   "cell_type": "code",
   "execution_count": null,
   "id": "831a09b7",
   "metadata": {},
   "outputs": [],
   "source": []
  },
  {
   "cell_type": "code",
   "execution_count": 7,
   "id": "d705919d",
   "metadata": {},
   "outputs": [],
   "source": [
    "from sklearn.metrics import classification_report, confusion_matrix, accuracy_score, confusion_matrix, cohen_kappa_score\n",
    "\n",
    "def classify_report(ytest,y_pred):\n",
    "    cr = classification_report(ytest,y_pred)\n",
    "    accuracyscore = accuracy_score(ytest,y_pred)\n",
    "    errorrate = 1-accuracyscore\n",
    "    cohenkappascore = cohen_kappa_score(ytest,y_pred)\n",
    "    \n",
    "    print (\"\\nClassification Report:\\n\")\n",
    "    print(\"\\nAccuracy: \", accuracyscore)\n",
    "    print(\"\\nError Rate: \",errorrate )\n",
    "    print(\"\\nKappa Score: \", cohenkappascore)"
   ]
  },
  {
   "cell_type": "code",
   "execution_count": null,
   "id": "c92039d5",
   "metadata": {},
   "outputs": [],
   "source": []
  },
  {
   "cell_type": "code",
   "execution_count": 34,
   "id": "2b2c515d",
   "metadata": {},
   "outputs": [
    {
     "name": "stdout",
     "output_type": "stream",
     "text": [
      "\n",
      "\n",
      "CLASSIFICATION REPORT: \n",
      "               precision    recall  f1-score   support\n",
      "\n",
      "           0       0.36      0.17      0.23       263\n",
      "           1       0.67      0.18      0.28       112\n",
      "           2       0.37      0.08      0.13       139\n",
      "           3       0.40      0.04      0.07       104\n",
      "           4       0.00      0.00      0.00        61\n",
      "           5       0.46      0.52      0.49      1443\n",
      "           6       0.25      0.03      0.05       107\n",
      "           7       0.66      0.84      0.74      2659\n",
      "           8       0.53      0.75      0.62      2697\n",
      "           9       0.42      0.09      0.14       150\n",
      "          10       0.00      0.00      0.00        74\n",
      "          11       0.86      0.30      0.44        40\n",
      "          12       0.00      0.00      0.00        45\n",
      "          13       0.53      0.50      0.51       431\n",
      "          14       0.56      0.40      0.47       144\n",
      "          15       0.33      0.02      0.04        50\n",
      "          16       0.67      0.04      0.07        56\n",
      "          17       0.50      0.03      0.06        34\n",
      "          18       0.53      0.26      0.34       192\n",
      "          19       0.23      0.02      0.04       151\n",
      "          20       0.47      0.18      0.26       143\n",
      "          21       0.43      0.30      0.35      1045\n",
      "          22       0.50      0.14      0.22        93\n",
      "          23       0.41      0.14      0.20        81\n",
      "          24       0.31      0.09      0.14       309\n",
      "          25       0.00      0.00      0.00        20\n",
      "          26       0.81      0.63      0.71       200\n",
      "\n",
      "    accuracy                           0.55     10843\n",
      "   macro avg       0.42      0.21      0.24     10843\n",
      "weighted avg       0.52      0.55      0.51     10843\n",
      "\n",
      "\n",
      "\n",
      "\n",
      "\n",
      "Classification Report:\n",
      "\n",
      "\n",
      "Accuracy:  0.5505856312828553\n",
      "\n",
      "Error Rate:  0.4494143687171447\n",
      "\n",
      "Kappa Score:  0.4419306686299982\n",
      "None\n",
      "\n",
      "\n",
      "PREDICTED VALUES:  [' drama ' ' drama ' ' horror ' ' horror ' ' music ']\n",
      "\n",
      "\n",
      "ACTUAL VALUES: [' comedy ' ' short ' ' comedy ' ' horror ' ' music ']\n"
     ]
    },
    {
     "name": "stderr",
     "output_type": "stream",
     "text": [
      "C:\\Users\\admin\\AppData\\Local\\Programs\\Python\\Python310\\lib\\site-packages\\sklearn\\metrics\\_classification.py:1469: UndefinedMetricWarning: Precision and F-score are ill-defined and being set to 0.0 in labels with no predicted samples. Use `zero_division` parameter to control this behavior.\n",
      "  _warn_prf(average, modifier, msg_start, len(result))\n",
      "C:\\Users\\admin\\AppData\\Local\\Programs\\Python\\Python310\\lib\\site-packages\\sklearn\\metrics\\_classification.py:1469: UndefinedMetricWarning: Precision and F-score are ill-defined and being set to 0.0 in labels with no predicted samples. Use `zero_division` parameter to control this behavior.\n",
      "  _warn_prf(average, modifier, msg_start, len(result))\n",
      "C:\\Users\\admin\\AppData\\Local\\Programs\\Python\\Python310\\lib\\site-packages\\sklearn\\metrics\\_classification.py:1469: UndefinedMetricWarning: Precision and F-score are ill-defined and being set to 0.0 in labels with no predicted samples. Use `zero_division` parameter to control this behavior.\n",
      "  _warn_prf(average, modifier, msg_start, len(result))\n",
      "C:\\Users\\admin\\AppData\\Local\\Programs\\Python\\Python310\\lib\\site-packages\\sklearn\\metrics\\_classification.py:1469: UndefinedMetricWarning: Precision and F-score are ill-defined and being set to 0.0 in labels with no predicted samples. Use `zero_division` parameter to control this behavior.\n",
      "  _warn_prf(average, modifier, msg_start, len(result))\n",
      "C:\\Users\\admin\\AppData\\Local\\Programs\\Python\\Python310\\lib\\site-packages\\sklearn\\metrics\\_classification.py:1469: UndefinedMetricWarning: Precision and F-score are ill-defined and being set to 0.0 in labels with no predicted samples. Use `zero_division` parameter to control this behavior.\n",
      "  _warn_prf(average, modifier, msg_start, len(result))\n",
      "C:\\Users\\admin\\AppData\\Local\\Programs\\Python\\Python310\\lib\\site-packages\\sklearn\\metrics\\_classification.py:1469: UndefinedMetricWarning: Precision and F-score are ill-defined and being set to 0.0 in labels with no predicted samples. Use `zero_division` parameter to control this behavior.\n",
      "  _warn_prf(average, modifier, msg_start, len(result))\n"
     ]
    }
   ],
   "source": [
    "import pandas as pd\n",
    "import re\n",
    "from sklearn.feature_extraction.text import TfidfVectorizer\n",
    "from sklearn.model_selection import train_test_split\n",
    "from sklearn.linear_model import LogisticRegression\n",
    "from sklearn.preprocessing import LabelEncoder\n",
    "from sklearn.metrics import classification_report\n",
    "\n",
    "def preprocess_text(text):\n",
    "    if not isinstance(text, str):\n",
    "        return ''\n",
    "    text = re.sub(r'\\d+', '', text)\n",
    "    text = re.sub(r'[^\\w\\s]', '', text)\n",
    "    text = text.lower()\n",
    "    return text\n",
    "\n",
    "train['Description'] = train['Description'].apply(preprocess_text)\n",
    "\n",
    "vectorizer = TfidfVectorizer(max_features=1000)\n",
    "x = vectorizer.fit_transform(df['Description'])\n",
    "\n",
    "label_encoder = LabelEncoder()\n",
    "y = label_encoder.fit_transform(df['Genre'])\n",
    "\n",
    "# Split the data into training and testing sets\n",
    "xtrain, xtest, ytrain, ytest = train_test_split(x, y, test_size=0.2, random_state=42)\n",
    "\n",
    "lr = LogisticRegression(max_iter=1000, solver='saga')\n",
    "\n",
    "# Train the model\n",
    "lr.fit(xtrain, ytrain)\n",
    "\n",
    "# Make predictions\n",
    "ypred = lr.predict(xtest)\n",
    "\n",
    "# Evaluate the model\n",
    "print('\\n\\nCLASSIFICATION REPORT: \\n\\n', classification_report(ytest, ypred))\n",
    "print('\\n\\n')\n",
    "print(classify_report(ytest, ypred))\n",
    "\n",
    "print(\"\\n\\nPREDICTED VALUES: \", label_encoder.inverse_transform(ypred[:5]))\n",
    "print(\"\\n\\nACTUAL VALUES:\", label_encoder.inverse_transform(ytest[:5]))"
   ]
  }
 ],
 "metadata": {
  "kernelspec": {
   "display_name": "Python 3 (ipykernel)",
   "language": "python",
   "name": "python3"
  },
  "language_info": {
   "codemirror_mode": {
    "name": "ipython",
    "version": 3
   },
   "file_extension": ".py",
   "mimetype": "text/x-python",
   "name": "python",
   "nbconvert_exporter": "python",
   "pygments_lexer": "ipython3",
   "version": "3.10.4"
  }
 },
 "nbformat": 4,
 "nbformat_minor": 5
}
